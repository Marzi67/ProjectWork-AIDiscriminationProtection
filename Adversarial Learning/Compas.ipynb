{
 "cells": [
  {
   "cell_type": "code",
   "execution_count": 1,
   "id": "4d67e226",
   "metadata": {},
   "outputs": [],
   "source": [
    "%load_ext autoreload\n",
    "%autoreload 2\n",
    "import matplotlib.pyplot as plt\n",
    "import numpy as np\n",
    "import pandas as pd\n",
    "import seaborn as sns\n",
    "import torch\n",
    "import torch.nn as nn\n",
    "import torch.optim as optim\n",
    "from IPython import display\n",
    "from sklearn import metrics\n",
    "from sklearn.model_selection import train_test_split\n",
    "from sklearn.preprocessing import StandardScaler\n",
    "from sklearn.utils.class_weight import compute_class_weight\n",
    "from torch.utils.data import TensorDataset\n",
    "from torch.utils.data import DataLoader"
   ]
  },
  {
   "cell_type": "code",
   "execution_count": 2,
   "id": "fe92bccf",
   "metadata": {},
   "outputs": [],
   "source": [
    "def load_Compas_data(path):\n",
    "    # Read the CSV file with the first row containing column names\n",
    "    input_data = pd.read_csv('compas-scores-two-years.csv', sep=',', engine='python', header=0)\n",
    "\n",
    "    # Filter the DataFrame to include only 'White' or 'Black' race\n",
    "    input_data = input_data.loc[input_data['race'].isin(['African-American', 'Caucasian'])]\n",
    "\n",
    "    sensitive_attribs = ['race', 'sex']\n",
    "    Z = (input_data.loc[:, sensitive_attribs]\n",
    "         .assign(race=lambda df: (df['race'] == 'Caucasian').astype(int),\n",
    "                 sex=lambda df: (df['sex'] == 'Female').astype(int)))\n",
    "\n",
    "    # targets;\n",
    "    y = (input_data['two_year_recid'])\n",
    "\n",
    "    # features; note that the 'target' and sentive attribute columns are dropped\n",
    "    # Select specific columns using DataFrame.loc\n",
    "    selected_columns = [\"age_cat\", \"priors_count\", \"c_charge_degree\"]\n",
    "    X = input_data.loc[:, selected_columns].fillna('Unknown').pipe(pd.get_dummies, drop_first=True)\n",
    "\n",
    "    print(f\"features X: {X.shape[0]} samples, {X.shape[1]} attributes\")\n",
    "    print(f\"targets y: {y.shape} samples\")\n",
    "    print(f\"sensitives Z: {Z.shape[0]} samples, {Z.shape[1]} attributes\")\n",
    "    return X, y, Z"
   ]
  },
  {
   "cell_type": "code",
   "execution_count": 3,
   "id": "a0e11bbb",
   "metadata": {},
   "outputs": [
    {
     "name": "stdout",
     "output_type": "stream",
     "text": [
      "features X: 6150 samples, 4 attributes\n",
      "targets y: (6150,) samples\n",
      "sensitives Z: 6150 samples, 2 attributes\n",
      "X       priors_count  age_cat_Greater than 45  age_cat_Less than 25  \\\n",
      "99       -0.528464                -0.527309              1.911032   \n",
      "4091     -0.528464                 1.896421             -0.523278   \n",
      "5090      0.891837                 1.896421             -0.523278   \n",
      "5422     -0.528464                -0.527309              1.911032   \n",
      "3894     -0.325564                 1.896421             -0.523278   \n",
      "...            ...                      ...                   ...   \n",
      "341      -0.731364                -0.527309             -0.523278   \n",
      "5925     -0.731364                -0.527309             -0.523278   \n",
      "1869     -0.731364                -0.527309              1.911032   \n",
      "3271      0.080236                -0.527309             -0.523278   \n",
      "6240     -0.528464                -0.527309              1.911032   \n",
      "\n",
      "      c_charge_degree_M  \n",
      "99             1.382726  \n",
      "4091          -0.723209  \n",
      "5090           1.382726  \n",
      "5422          -0.723209  \n",
      "3894          -0.723209  \n",
      "...                 ...  \n",
      "341           -0.723209  \n",
      "5925           1.382726  \n",
      "1869          -0.723209  \n",
      "3271          -0.723209  \n",
      "6240          -0.723209  \n",
      "\n",
      "[3075 rows x 4 columns]\n"
     ]
    }
   ],
   "source": [
    "X, y, Z = load_Compas_data('compas-scores-two-years.csv')\n",
    "\n",
    "n_features = X.shape[1]\n",
    "n_sensitive = Z.shape[1]\n",
    "\n",
    "# split into train/test set\n",
    "(X_train, X_test, y_train, y_test,\n",
    " Z_train, Z_test) = train_test_split(X, y, Z, test_size=0.5,\n",
    "                                     stratify=y, random_state=7)\n",
    "\n",
    "# standardize the data\n",
    "scaler = StandardScaler().fit(X_train)\n",
    "scale_df = lambda df, scaler: pd.DataFrame(scaler.transform(df), \n",
    "                                           columns=df.columns, index=df.index)\n",
    "X_train = X_train.pipe(scale_df, scaler) \n",
    "X_test = X_test.pipe(scale_df, scaler) \n",
    "print (\"X\",X_train)"
   ]
  },
  {
   "cell_type": "code",
   "execution_count": 4,
   "id": "a3717170",
   "metadata": {},
   "outputs": [],
   "source": [
    "class PandasDataSet(TensorDataset):\n",
    "\n",
    "    def __init__(self, *dataframes):\n",
    "        tensors = (self._df_to_tensor(df) for df in dataframes)\n",
    "        super(PandasDataSet, self).__init__(*tensors)\n",
    "\n",
    "    def _df_to_tensor(self, df):\n",
    "        if isinstance(df, pd.Series):\n",
    "            df = df.to_frame('dummy')\n",
    "        return torch.from_numpy(df.values).float()\n",
    "\n",
    "\n",
    "train_data = PandasDataSet(X_train, y_train, Z_train)\n",
    "test_data = PandasDataSet(X_test, y_test, Z_test)"
   ]
  },
  {
   "cell_type": "code",
   "execution_count": 5,
   "id": "d6931eb5",
   "metadata": {},
   "outputs": [
    {
     "name": "stdout",
     "output_type": "stream",
     "text": [
      "# training samples: 3075\n",
      "# batches: 96\n"
     ]
    }
   ],
   "source": [
    "train_loader = DataLoader(train_data, batch_size=32, shuffle=True, drop_last=True)\n",
    "\n",
    "print('# training samples:', len(train_data))\n",
    "print('# batches:', len(train_loader))"
   ]
  },
  {
   "cell_type": "code",
   "execution_count": 6,
   "id": "1d6f0060",
   "metadata": {},
   "outputs": [],
   "source": [
    "class Classifier(nn.Module):\n",
    "\n",
    "    def __init__(self, n_features, n_hidden=32, p_dropout=0.2):\n",
    "        super(Classifier, self).__init__()\n",
    "        self.network = nn.Sequential(\n",
    "            nn.Linear(n_features, n_hidden),\n",
    "            nn.ReLU(),\n",
    "            nn.Dropout(p_dropout),\n",
    "            nn.Linear(n_hidden, n_hidden),\n",
    "            nn.ReLU(),\n",
    "            nn.Dropout(p_dropout),\n",
    "            nn.Linear(n_hidden, n_hidden),\n",
    "            nn.ReLU(),\n",
    "            nn.Dropout(p_dropout),\n",
    "            nn.Linear(n_hidden, 1),\n",
    "        )\n",
    "\n",
    "    def forward(self, x):\n",
    "        return torch.sigmoid(self.network(x))"
   ]
  },
  {
   "cell_type": "code",
   "execution_count": 7,
   "id": "6c82f1d9",
   "metadata": {},
   "outputs": [],
   "source": [
    "clf = Classifier(n_features=n_features)\n",
    "clf_criterion = nn.BCELoss()\n",
    "clf_optimizer = optim.Adam(clf.parameters())"
   ]
  },
  {
   "cell_type": "code",
   "execution_count": 8,
   "id": "e331e963",
   "metadata": {},
   "outputs": [],
   "source": [
    "def pretrain_classifier(clf, data_loader, optimizer, criterion):\n",
    "    for x, y, _ in data_loader:\n",
    "        clf.zero_grad()\n",
    "        p_y = clf(x)\n",
    "        loss = criterion(p_y, y)\n",
    "        loss.backward()\n",
    "        optimizer.step()\n",
    "    return clf\n",
    "\n",
    "\n",
    "N_CLF_EPOCHS = 2\n",
    "\n",
    "for epoch in range(N_CLF_EPOCHS):\n",
    "    clf = pretrain_classifier(clf, train_loader, clf_optimizer, clf_criterion)"
   ]
  },
  {
   "cell_type": "code",
   "execution_count": 9,
   "id": "c3946d50",
   "metadata": {},
   "outputs": [],
   "source": [
    "class Adversary(nn.Module):\n",
    "\n",
    "    def __init__(self, n_sensitive, n_hidden=32):\n",
    "        super(Adversary, self).__init__()\n",
    "        self.network = nn.Sequential(\n",
    "            nn.Linear(1, n_hidden),\n",
    "            nn.ReLU(),\n",
    "            nn.Linear(n_hidden, n_hidden),\n",
    "            nn.ReLU(),\n",
    "            nn.Linear(n_hidden, n_hidden),\n",
    "            nn.ReLU(),\n",
    "            nn.Linear(n_hidden, n_sensitive),\n",
    "        )\n",
    "\n",
    "    def forward(self, x):\n",
    "        return torch.sigmoid(self.network(x))\n",
    "\n",
    "\n",
    "def pretrain_adversary(adv, clf, data_loader, optimizer, criterion):\n",
    "    for x, _, z in data_loader:\n",
    "        p_y = clf(x).detach()\n",
    "        adv.zero_grad()\n",
    "        p_z = adv(p_y)\n",
    "        loss = (criterion(p_z, z) * lambdas).mean()\n",
    "        loss.backward()\n",
    "        optimizer.step()\n",
    "    return adv\n",
    "\n",
    "\n",
    "lambdas = torch.Tensor([130, 30])\n",
    "adv = Adversary(Z_train.shape[1])\n",
    "adv_criterion = nn.BCELoss(reduction='none')\n",
    "adv_optimizer = optim.Adam(adv.parameters())\n",
    "\n",
    "\n",
    "N_ADV_EPOCHS = 5\n",
    "\n",
    "for epoch in range(N_ADV_EPOCHS):\n",
    "    pretrain_adversary(adv, clf, train_loader, adv_optimizer, adv_criterion)"
   ]
  },
  {
   "cell_type": "code",
   "execution_count": 10,
   "id": "4e92ef95",
   "metadata": {},
   "outputs": [],
   "source": [
    "def p_rule(y_pred, z_values, threshold=0.5):\n",
    "    y_z_1 = y_pred[z_values == 1] > threshold if threshold else y_pred[z_values == 1]\n",
    "    y_z_0 = y_pred[z_values == 0] > threshold if threshold else y_pred[z_values == 0]\n",
    "    odds = y_z_1.mean() / y_z_0.mean()\n",
    "    return np.min([odds, 1/odds]) * 100"
   ]
  },
  {
   "cell_type": "code",
   "execution_count": 11,
   "id": "3b87cf61",
   "metadata": {},
   "outputs": [
    {
     "name": "stderr",
     "output_type": "stream",
     "text": [
      "No artists with labels found to put in legend.  Note that artists whose label start with an underscore are ignored when legend() is called with no argument.\n"
     ]
    },
    {
     "name": "stdout",
     "output_type": "stream",
     "text": [
      "\n",
      "p_rulesForGender 89.75077410144921\n",
      "p_rulesForRace 92.82675818366394\n",
      "Accuracy 54.27642276422764\n",
      "\n"
     ]
    },
    {
     "data": {
      "image/png": "[encoded data removed]",
      "text/plain": [
       "<Figure size 800x600 with 1 Axes>"
      ]
     },
     "metadata": {},
     "output_type": "display_data"
    },
    {
     "data": {
      "image/png": "[encoded data removed]",
      "text/plain": [
       "<Figure size 800x600 with 1 Axes>"
      ]
     },
     "metadata": {},
     "output_type": "display_data"
    }
   ],
   "source": [
    "\n",
    "def train(clf, adv, data_loader, clf_criterion, adv_criterion,\n",
    "          clf_optimizer, adv_optimizer, lambdas):\n",
    "    \n",
    "    # Train adversary\n",
    "    for x, y, z in data_loader:\n",
    "        p_y = clf(x)\n",
    "        adv.zero_grad()\n",
    "        p_z = adv(p_y)\n",
    "        loss_adv = (adv_criterion(p_z, z) * lambdas).mean()\n",
    "        loss_adv.backward()\n",
    "        adv_optimizer.step()\n",
    " \n",
    "    # Train classifier on single batch\n",
    "    for x, y, z in data_loader:\n",
    "        pass\n",
    "    p_y = clf(x)\n",
    "    p_z = adv(p_y)\n",
    "    clf.zero_grad()\n",
    "    p_z = adv(p_y)\n",
    "    loss_adv = (adv_criterion(p_z, z) * lambdas).mean()\n",
    "    clf_loss = clf_criterion(p_y, y) - (adv_criterion(adv(p_y), z) * lambdas).mean()\n",
    "    clf_loss.backward()\n",
    "    clf_optimizer.step()\n",
    "    \n",
    "    return clf, adv\n",
    "\n",
    "clf_accuracy_list = []\n",
    "p_rules_dict = {}  # Dictionary to store p-rules for attributes (sex and race)\n",
    "\n",
    "N_EPOCH_COMBINED = 165\n",
    "\n",
    "for epoch in range(1, N_EPOCH_COMBINED):\n",
    "    \n",
    "    clf, adv = train(clf, adv, train_loader, clf_criterion, adv_criterion,\n",
    "                     clf_optimizer, adv_optimizer, lambdas)\n",
    "    with torch.no_grad():\n",
    "            clf_pred = clf(test_data.tensors[0])\n",
    "            adv_pred = adv(clf_pred)\n",
    "    y_post_clf = pd.Series(clf_pred.numpy().ravel(), index=y_test.index)\n",
    "    Z_post_adv = pd.DataFrame(adv_pred.numpy(), columns=Z_test.columns)\n",
    "    \n",
    "    if epoch % 10 == 0:  # Only append values and create plots every 10 epochs\n",
    "        clf_accuracy = metrics.accuracy_score(y_test, y_post_clf > 0.5) * 100\n",
    "        # Calculate p-rules for both race and sex attributes\n",
    "        p_rules = {\n",
    "            'sex': p_rule(y_post_clf, Z_test['sex']),\n",
    "            'race': p_rule(y_post_clf, Z_test['race'])\n",
    "        }\n",
    "        # Append values to lists\n",
    "        clf_accuracy_list.append(clf_accuracy)\n",
    "        p_rules_dict[epoch] = p_rules\n",
    "        #print ('p_rules_dict',p_rules_dict)\n",
    "        p_rulesFinalSex = p_rule(y_post_clf, Z_test['sex'])\n",
    "        p_rulesFinalRace = p_rule(y_post_clf, Z_test['race'])\n",
    "        clf_accuracyFinal = metrics.accuracy_score(y_test, y_post_clf > 0.5) * 100\n",
    "    # Convert lists to arrays if needed\n",
    "clf_accuracy_array = np.array(clf_accuracy_list)\n",
    "print ()\n",
    "print ('p_rulesForGender',p_rulesFinalSex)\n",
    "print ('p_rulesForRace',p_rulesFinalRace)\n",
    "print ('Accuracy',clf_accuracyFinal)\n",
    "print ()\n",
    "# Scatter plots for each attribute\n",
    "# Scatter plot\n",
    "plt.figure(figsize=(8, 6))\n",
    "plt.scatter([item['sex'] for item in p_rules_dict.values()], \n",
    "            clf_accuracy_array, \n",
    "             color='red', marker='o' )\n",
    "# Add labels and title\n",
    "plt.xlabel('P Rules (Gender)')\n",
    "plt.ylabel('Accuracy')\n",
    "plt.title('Scatter Plot: Classifier Accuracy vs. P Rules (Gender)')\n",
    "\n",
    "\n",
    "# Scatter plot\n",
    "plt.figure(figsize=(8, 6))\n",
    "plt.scatter([item['race'] for item in p_rules_dict.values()], \n",
    "            clf_accuracy_array, \n",
    "             color='red', marker='o' )\n",
    "# Add labels and title\n",
    "plt.xlabel('P Rules (Race)')\n",
    "plt.ylabel('Accuracy')\n",
    "plt.title('Scatter Plot: Classifier Accuracy vs. P Rules (Race)') \n",
    "# Add legend\n",
    "plt.legend()\n",
    "    \n",
    "# Show the plot\n",
    "plt.show()"
   ]
  }
 ],
 "metadata": {
  "kernelspec": {
   "display_name": "Python 3 (ipykernel)",
   "language": "python",
   "name": "python3"
  },
  "language_info": {
   "codemirror_mode": {
    "name": "ipython",
    "version": 3
   },
   "file_extension": ".py",
   "mimetype": "text/x-python",
   "name": "python",
   "nbconvert_exporter": "python",
   "pygments_lexer": "ipython3",
   "version": "3.10.4"
  }
 },
 "nbformat": 4,
 "nbformat_minor": 5
}
